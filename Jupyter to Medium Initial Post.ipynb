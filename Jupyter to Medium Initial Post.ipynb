{
 "cells": [
  {
   "cell_type": "markdown",
   "metadata": {},
   "source": [
    "# Publish Jupyter Notebooks as Medium Blog Posts with jupyter_to_medium\n",
    "\n",
    "I am very excited to announce the official release of [jupyter_to_medium][0], a Python package that extends Jupyter Notebooks, allowing you to easily post them on the popular blog hosting site Medium.\n",
    "\n",
    "## Motivation\n",
    "\n",
    "I've added dozens of blog posts on Medium myself with all of them beginning as Jupyter Notebooks. Manually converting them to Medium posts was a fairly lengthy, painstaking process. One particularly painful process was inserting tables, which Medium does not support, into my posts. Nearly all of my posts contain numerous pandas DataFrames ([such as this one][1], which has 40! DataFrames) which are represented as HTML tables. I'd use screenshots of each one within my posts. \n",
    "\n",
    "jupyter_to_medium automates the process of converting Jupyter Notebooks to Medium blog posts allowing you to save a substantial amount of time.\n",
    "\n",
    "## Installation\n",
    "\n",
    "Install from PyPI with the following command:\n",
    "\n",
    "```\n",
    "pip install jupyter_to_medium\n",
    "```\n",
    "\n",
    "After installation, fire up a Jupyter Notebook that you'd like to publish on Medium. Make sure you start a brand new notebook session. Even if you don't have a notebook that is ready to publish, you can still test this extension and publish as a draft so that it remains private.\n",
    "\n",
    "## Deploy as Medium Post\n",
    "\n",
    "Once you open your notebook, head into the **File** menu and notice that you'll have a new option **Deploy as -> Medium Post**.\n",
    "\n",
    "![Menu Option](docs/images/menu_option.png)\n",
    "\n",
    "[0]: https://www.dexplo.org/jupyter_to_medium\n",
    "[1]: https://medium.com/dunder-data/selecting-subsets-of-data-in-pandas-6fcd0170be9c"
   ]
  },
  {
   "cell_type": "markdown",
   "metadata": {},
   "source": [
    "### If option is missing\n",
    "\n",
    "This new option should automatically show up in your notebook without doing anything. If it is missing, run the follow command to enable it.\n",
    "\n",
    "```\n",
    "jupyter bundlerextension enable --py jupyter_to_medium._bundler --sys-prefix\n",
    "```"
   ]
  },
  {
   "cell_type": "markdown",
   "metadata": {},
   "source": [
    "### Fill out form\n",
    "\n",
    "Clicking on **Deploy as -> Medium Post** triggers a new browser tab with a short form that needs to be filled out before posting.\n",
    "\n",
    "![](docs/images/form.png)"
   ]
  },
  {
   "cell_type": "markdown",
   "metadata": {},
   "source": [
    "### Medium Integration Token\n",
    "\n",
    "Before you can post to Medium, you'll need to request an integration token from them. Do this by emailing them at <a href=\"mailto:yourfriends@medium.com\">yourfriends@medium.com</a>. Please read the [entire instructions on how to get your integration token](https://github.com/Medium/medium-api-docs#21-self-issued-access-tokens).\n",
    "\n",
    "Once your request is granted, navigate to <a href=\"https://medium.com/me/settings\">your Medium settings page.</a> Towards the bottom of the page exists the section on **Integration Tokens**. Enter a description for the token (`jupyter_to_medium` is a good choice) and then create the token.\n",
    "\n",
    "![](docs/images/integration_token.png)\n",
    "\n",
    "### Save your integration token\n",
    "\n",
    "Once you have your integration token, create the folder and file `.jupyter_to_medium/integration_token` in your home directory and save the token there. If you don't save it, you'll need to access it every time you wish to make a new post.\n",
    "\n",
    "## Complete form\n",
    "\n",
    "Once you have your integration token, you can complete the rest of the form. Note that the 'Title' text box is not the actual title of the post, but a title that Medium uses for SEO purposes. Use an `H1` Markdown header in the first cell of your notebook to create the actual title of your post.\n",
    "\n",
    "## Publish\n",
    "\n",
    "Once you've completed the form, click the **Publish** button. At this time, only publishing as a 'draft' is allowed as you probably want to review what your post looks like before publishing it publicly. "
   ]
  },
  {
   "cell_type": "markdown",
   "metadata": {},
   "source": [
    "## Success\n",
    "\n",
    "If your post was successful, you'll see the following screen with the URL of your post.\n",
    "\n",
    "![](docs/images/success.png)\n",
    "\n",
    "## Finalize on Medium\n",
    "\n",
    "As stated, `jupyter_to_medium` only allows for publishing as a draft. To make your post public, go to your post on Medium and publish there.\n",
    "\n",
    "![](docs/images/post.png)"
   ]
  },
  {
   "cell_type": "markdown",
   "metadata": {},
   "source": [
    "## Features\n",
    "\n",
    "There are several features that jupyter_to_medium provides to ensure that your notebook appears in the\n",
    "\n",
    "### All images in Markdown are found and uploaded to Medium\n",
    "\n",
    "All images in the Markdown cells, such as the five above are found and uploaded to Markdown. Medium limits the image types to png, jpeg, gif, and tiff.\n",
    "\n",
    "\n",
    "### Pandas DataFrames are converted to images\n",
    "\n",
    "Medium does not support tables, such as those produced in output cells by pandas DataFrames. As a workaround, these tables are uploaded as images captured by the Chrome browser's screenshot ability. In the following code cell, the [bar_chart_race](https://www.dexplo.org/bar_chart_race/) package is used to import a pandas DataFrame containing deaths from COVID-19 in several countries. It is embedded in the Medium post as an image."
   ]
  },
  {
   "cell_type": "code",
   "execution_count": 1,
   "metadata": {},
   "outputs": [
    {
     "data": {
      "text/html": [
       "<div>\n",
       "<style scoped>\n",
       "    .dataframe tbody tr th:only-of-type {\n",
       "        vertical-align: middle;\n",
       "    }\n",
       "\n",
       "    .dataframe tbody tr th {\n",
       "        vertical-align: top;\n",
       "    }\n",
       "\n",
       "    .dataframe thead th {\n",
       "        text-align: right;\n",
       "    }\n",
       "</style>\n",
       "<table border=\"1\" class=\"dataframe\">\n",
       "  <thead>\n",
       "    <tr style=\"text-align: right;\">\n",
       "      <th></th>\n",
       "      <th>Belgium</th>\n",
       "      <th>China</th>\n",
       "      <th>India</th>\n",
       "      <th>Ireland</th>\n",
       "      <th>Netherlands</th>\n",
       "      <th>Sweden</th>\n",
       "      <th>USA</th>\n",
       "    </tr>\n",
       "    <tr>\n",
       "      <th>date</th>\n",
       "      <th></th>\n",
       "      <th></th>\n",
       "      <th></th>\n",
       "      <th></th>\n",
       "      <th></th>\n",
       "      <th></th>\n",
       "      <th></th>\n",
       "    </tr>\n",
       "  </thead>\n",
       "  <tbody>\n",
       "    <tr>\n",
       "      <th>2020-04-08</th>\n",
       "      <td>2240.0</td>\n",
       "      <td>3337.0</td>\n",
       "      <td>178.0</td>\n",
       "      <td>235.0</td>\n",
       "      <td>2255.0</td>\n",
       "      <td>687.0</td>\n",
       "      <td>14704.0</td>\n",
       "    </tr>\n",
       "    <tr>\n",
       "      <th>2020-04-09</th>\n",
       "      <td>2523.0</td>\n",
       "      <td>3339.0</td>\n",
       "      <td>226.0</td>\n",
       "      <td>263.0</td>\n",
       "      <td>2403.0</td>\n",
       "      <td>793.0</td>\n",
       "      <td>16553.0</td>\n",
       "    </tr>\n",
       "    <tr>\n",
       "      <th>2020-04-10</th>\n",
       "      <td>3019.0</td>\n",
       "      <td>3340.0</td>\n",
       "      <td>246.0</td>\n",
       "      <td>287.0</td>\n",
       "      <td>2520.0</td>\n",
       "      <td>870.0</td>\n",
       "      <td>18595.0</td>\n",
       "    </tr>\n",
       "    <tr>\n",
       "      <th>2020-04-11</th>\n",
       "      <td>3346.0</td>\n",
       "      <td>3343.0</td>\n",
       "      <td>288.0</td>\n",
       "      <td>320.0</td>\n",
       "      <td>2653.0</td>\n",
       "      <td>887.0</td>\n",
       "      <td>20471.0</td>\n",
       "    </tr>\n",
       "    <tr>\n",
       "      <th>2020-04-12</th>\n",
       "      <td>3600.0</td>\n",
       "      <td>3343.0</td>\n",
       "      <td>331.0</td>\n",
       "      <td>334.0</td>\n",
       "      <td>2747.0</td>\n",
       "      <td>899.0</td>\n",
       "      <td>22032.0</td>\n",
       "    </tr>\n",
       "  </tbody>\n",
       "</table>\n",
       "</div>"
      ],
      "text/plain": [
       "            Belgium   China  India  Ireland  Netherlands  Sweden      USA\n",
       "date                                                                     \n",
       "2020-04-08   2240.0  3337.0  178.0    235.0       2255.0   687.0  14704.0\n",
       "2020-04-09   2523.0  3339.0  226.0    263.0       2403.0   793.0  16553.0\n",
       "2020-04-10   3019.0  3340.0  246.0    287.0       2520.0   870.0  18595.0\n",
       "2020-04-11   3346.0  3343.0  288.0    320.0       2653.0   887.0  20471.0\n",
       "2020-04-12   3600.0  3343.0  331.0    334.0       2747.0   899.0  22032.0"
      ]
     },
     "execution_count": 1,
     "metadata": {},
     "output_type": "execute_result"
    }
   ],
   "source": [
    "import bar_chart_race as bcr\n",
    "df = bcr.load_dataset('covid19')\n",
    "df = df.iloc[-15:-10, ::3]\n",
    "df"
   ]
  },
  {
   "cell_type": "markdown",
   "metadata": {},
   "source": [
    "### Styled pandas dataframes\n",
    "\n",
    "Styled pandas DataFrames are also embedded in your post as images."
   ]
  },
  {
   "cell_type": "code",
   "execution_count": 2,
   "metadata": {
    "scrolled": false
   },
   "outputs": [
    {
     "data": {
      "text/html": [
       "<style  type=\"text/css\" >\n",
       "    #T_7969fc0c_a05f_11ea_aa59_b8e85647e68crow3_col1 {\n",
       "            background-color:  yellow;\n",
       "        }    #T_7969fc0c_a05f_11ea_aa59_b8e85647e68crow4_col0 {\n",
       "            background-color:  yellow;\n",
       "        }    #T_7969fc0c_a05f_11ea_aa59_b8e85647e68crow4_col1 {\n",
       "            background-color:  yellow;\n",
       "        }    #T_7969fc0c_a05f_11ea_aa59_b8e85647e68crow4_col2 {\n",
       "            background-color:  yellow;\n",
       "        }    #T_7969fc0c_a05f_11ea_aa59_b8e85647e68crow4_col3 {\n",
       "            background-color:  yellow;\n",
       "        }    #T_7969fc0c_a05f_11ea_aa59_b8e85647e68crow4_col4 {\n",
       "            background-color:  yellow;\n",
       "        }    #T_7969fc0c_a05f_11ea_aa59_b8e85647e68crow4_col5 {\n",
       "            background-color:  yellow;\n",
       "        }    #T_7969fc0c_a05f_11ea_aa59_b8e85647e68crow4_col6 {\n",
       "            background-color:  yellow;\n",
       "        }</style><table id=\"T_7969fc0c_a05f_11ea_aa59_b8e85647e68c\" ><thead>    <tr>        <th class=\"blank level0\" ></th>        <th class=\"col_heading level0 col0\" >Belgium</th>        <th class=\"col_heading level0 col1\" >China</th>        <th class=\"col_heading level0 col2\" >India</th>        <th class=\"col_heading level0 col3\" >Ireland</th>        <th class=\"col_heading level0 col4\" >Netherlands</th>        <th class=\"col_heading level0 col5\" >Sweden</th>        <th class=\"col_heading level0 col6\" >USA</th>    </tr>    <tr>        <th class=\"index_name level0\" >date</th>        <th class=\"blank\" ></th>        <th class=\"blank\" ></th>        <th class=\"blank\" ></th>        <th class=\"blank\" ></th>        <th class=\"blank\" ></th>        <th class=\"blank\" ></th>        <th class=\"blank\" ></th>    </tr></thead><tbody>\n",
       "                <tr>\n",
       "                        <th id=\"T_7969fc0c_a05f_11ea_aa59_b8e85647e68clevel0_row0\" class=\"row_heading level0 row0\" >2020-04-08 00:00:00</th>\n",
       "                        <td id=\"T_7969fc0c_a05f_11ea_aa59_b8e85647e68crow0_col0\" class=\"data row0 col0\" >2240.000000</td>\n",
       "                        <td id=\"T_7969fc0c_a05f_11ea_aa59_b8e85647e68crow0_col1\" class=\"data row0 col1\" >3337.000000</td>\n",
       "                        <td id=\"T_7969fc0c_a05f_11ea_aa59_b8e85647e68crow0_col2\" class=\"data row0 col2\" >178.000000</td>\n",
       "                        <td id=\"T_7969fc0c_a05f_11ea_aa59_b8e85647e68crow0_col3\" class=\"data row0 col3\" >235.000000</td>\n",
       "                        <td id=\"T_7969fc0c_a05f_11ea_aa59_b8e85647e68crow0_col4\" class=\"data row0 col4\" >2255.000000</td>\n",
       "                        <td id=\"T_7969fc0c_a05f_11ea_aa59_b8e85647e68crow0_col5\" class=\"data row0 col5\" >687.000000</td>\n",
       "                        <td id=\"T_7969fc0c_a05f_11ea_aa59_b8e85647e68crow0_col6\" class=\"data row0 col6\" >14704.000000</td>\n",
       "            </tr>\n",
       "            <tr>\n",
       "                        <th id=\"T_7969fc0c_a05f_11ea_aa59_b8e85647e68clevel0_row1\" class=\"row_heading level0 row1\" >2020-04-09 00:00:00</th>\n",
       "                        <td id=\"T_7969fc0c_a05f_11ea_aa59_b8e85647e68crow1_col0\" class=\"data row1 col0\" >2523.000000</td>\n",
       "                        <td id=\"T_7969fc0c_a05f_11ea_aa59_b8e85647e68crow1_col1\" class=\"data row1 col1\" >3339.000000</td>\n",
       "                        <td id=\"T_7969fc0c_a05f_11ea_aa59_b8e85647e68crow1_col2\" class=\"data row1 col2\" >226.000000</td>\n",
       "                        <td id=\"T_7969fc0c_a05f_11ea_aa59_b8e85647e68crow1_col3\" class=\"data row1 col3\" >263.000000</td>\n",
       "                        <td id=\"T_7969fc0c_a05f_11ea_aa59_b8e85647e68crow1_col4\" class=\"data row1 col4\" >2403.000000</td>\n",
       "                        <td id=\"T_7969fc0c_a05f_11ea_aa59_b8e85647e68crow1_col5\" class=\"data row1 col5\" >793.000000</td>\n",
       "                        <td id=\"T_7969fc0c_a05f_11ea_aa59_b8e85647e68crow1_col6\" class=\"data row1 col6\" >16553.000000</td>\n",
       "            </tr>\n",
       "            <tr>\n",
       "                        <th id=\"T_7969fc0c_a05f_11ea_aa59_b8e85647e68clevel0_row2\" class=\"row_heading level0 row2\" >2020-04-10 00:00:00</th>\n",
       "                        <td id=\"T_7969fc0c_a05f_11ea_aa59_b8e85647e68crow2_col0\" class=\"data row2 col0\" >3019.000000</td>\n",
       "                        <td id=\"T_7969fc0c_a05f_11ea_aa59_b8e85647e68crow2_col1\" class=\"data row2 col1\" >3340.000000</td>\n",
       "                        <td id=\"T_7969fc0c_a05f_11ea_aa59_b8e85647e68crow2_col2\" class=\"data row2 col2\" >246.000000</td>\n",
       "                        <td id=\"T_7969fc0c_a05f_11ea_aa59_b8e85647e68crow2_col3\" class=\"data row2 col3\" >287.000000</td>\n",
       "                        <td id=\"T_7969fc0c_a05f_11ea_aa59_b8e85647e68crow2_col4\" class=\"data row2 col4\" >2520.000000</td>\n",
       "                        <td id=\"T_7969fc0c_a05f_11ea_aa59_b8e85647e68crow2_col5\" class=\"data row2 col5\" >870.000000</td>\n",
       "                        <td id=\"T_7969fc0c_a05f_11ea_aa59_b8e85647e68crow2_col6\" class=\"data row2 col6\" >18595.000000</td>\n",
       "            </tr>\n",
       "            <tr>\n",
       "                        <th id=\"T_7969fc0c_a05f_11ea_aa59_b8e85647e68clevel0_row3\" class=\"row_heading level0 row3\" >2020-04-11 00:00:00</th>\n",
       "                        <td id=\"T_7969fc0c_a05f_11ea_aa59_b8e85647e68crow3_col0\" class=\"data row3 col0\" >3346.000000</td>\n",
       "                        <td id=\"T_7969fc0c_a05f_11ea_aa59_b8e85647e68crow3_col1\" class=\"data row3 col1\" >3343.000000</td>\n",
       "                        <td id=\"T_7969fc0c_a05f_11ea_aa59_b8e85647e68crow3_col2\" class=\"data row3 col2\" >288.000000</td>\n",
       "                        <td id=\"T_7969fc0c_a05f_11ea_aa59_b8e85647e68crow3_col3\" class=\"data row3 col3\" >320.000000</td>\n",
       "                        <td id=\"T_7969fc0c_a05f_11ea_aa59_b8e85647e68crow3_col4\" class=\"data row3 col4\" >2653.000000</td>\n",
       "                        <td id=\"T_7969fc0c_a05f_11ea_aa59_b8e85647e68crow3_col5\" class=\"data row3 col5\" >887.000000</td>\n",
       "                        <td id=\"T_7969fc0c_a05f_11ea_aa59_b8e85647e68crow3_col6\" class=\"data row3 col6\" >20471.000000</td>\n",
       "            </tr>\n",
       "            <tr>\n",
       "                        <th id=\"T_7969fc0c_a05f_11ea_aa59_b8e85647e68clevel0_row4\" class=\"row_heading level0 row4\" >2020-04-12 00:00:00</th>\n",
       "                        <td id=\"T_7969fc0c_a05f_11ea_aa59_b8e85647e68crow4_col0\" class=\"data row4 col0\" >3600.000000</td>\n",
       "                        <td id=\"T_7969fc0c_a05f_11ea_aa59_b8e85647e68crow4_col1\" class=\"data row4 col1\" >3343.000000</td>\n",
       "                        <td id=\"T_7969fc0c_a05f_11ea_aa59_b8e85647e68crow4_col2\" class=\"data row4 col2\" >331.000000</td>\n",
       "                        <td id=\"T_7969fc0c_a05f_11ea_aa59_b8e85647e68crow4_col3\" class=\"data row4 col3\" >334.000000</td>\n",
       "                        <td id=\"T_7969fc0c_a05f_11ea_aa59_b8e85647e68crow4_col4\" class=\"data row4 col4\" >2747.000000</td>\n",
       "                        <td id=\"T_7969fc0c_a05f_11ea_aa59_b8e85647e68crow4_col5\" class=\"data row4 col5\" >899.000000</td>\n",
       "                        <td id=\"T_7969fc0c_a05f_11ea_aa59_b8e85647e68crow4_col6\" class=\"data row4 col6\" >22032.000000</td>\n",
       "            </tr>\n",
       "    </tbody></table>"
      ],
      "text/plain": [
       "<pandas.io.formats.style.Styler at 0x104d7ca30>"
      ]
     },
     "execution_count": 2,
     "metadata": {},
     "output_type": "execute_result"
    }
   ],
   "source": [
    "df.style.highlight_max()"
   ]
  },
  {
   "cell_type": "markdown",
   "metadata": {},
   "source": [
    "### Matplotlib Plots\n",
    "\n",
    "All matplotlib plots, along with any other command that outputs an image will be safely embedded in your post."
   ]
  },
  {
   "cell_type": "code",
   "execution_count": 3,
   "metadata": {},
   "outputs": [
    {
     "data": {
      "image/png": "[encoded data removed]",
      "text/plain": [
       "<Figure size 576x360 with 1 Axes>"
      ]
     },
     "metadata": {
      "needs_background": "light"
     },
     "output_type": "display_data"
    }
   ],
   "source": [
    "import matplotlib.pyplot as plt\n",
    "fig, ax = plt.subplots(figsize=(4, 2.5), dpi=144)\n",
    "df.loc['2020-04-12'].sort_values().plot(kind='barh', ax=ax, width=.8);"
   ]
  },
  {
   "cell_type": "markdown",
   "metadata": {},
   "source": [
    "### Animated gifs\n",
    "\n",
    "Even animated gifs are supported by Medium. This one created by the `bar_chart_race` function."
   ]
  },
  {
   "cell_type": "code",
   "execution_count": 4,
   "metadata": {},
   "outputs": [
    {
     "data": {
      "text/html": [
       "<img src=\"docs/images/covid.gif?a=3\"/>"
      ],
      "text/plain": [
       "<IPython.core.display.Image object>"
      ]
     },
     "execution_count": 4,
     "metadata": {},
     "output_type": "execute_result"
    }
   ],
   "source": [
    "from IPython.display import HTML, Image\n",
    "bcr.bar_chart_race(df, 'docs/images/covid.gif', figsize=(4, 2.5))\n",
    "Image(url='docs/images/covid.gif')"
   ]
  },
  {
   "cell_type": "markdown",
   "metadata": {},
   "source": [
    "## Citing Jupyter to Medium\n",
    "\n",
    "If you do use [jupyter_to_medium][0], please mention in the post that you've used it, so that others can find out about it.\n",
    "\n",
    "[0]: https://www.dexplo.org/jupyter_to_medium"
   ]
  },
  {
   "cell_type": "markdown",
   "metadata": {},
   "source": [
    "## Master Python, Data Science and Machine Learning\n",
    "\n",
    "Immerse yourself in my comprehensive path for mastering data science and machine learning with Python. [Purchase the All Access Pass][0] to get lifetime access to all current and future courses. Some of the courses it contains:\n",
    "\n",
    "* [Exercise Python][0] — A comprehensive introduction to Python (200+ pages, 100+ exercises)\n",
    "* [Master Data Analysis with Python][1] — The most comprehensive course available to learn pandas. (800+ pages and 350+ exercises)\n",
    "* [Master Machine Learning with Python][2] — A deep dive into doing machine learning with scikit-learn constantly updated to showcase the latest and greatest tools.\n",
    "\n",
    "[0]: https://www.dunderdata.com/exercise-python\n",
    "[1]: https://www.dunderdata.com/master-data-analysis-with-python\n",
    "[2]: https://www.dunderdata.com/master-machine-learning-with-python"
   ]
  }
 ],
 "metadata": {
  "kernelspec": {
   "display_name": "Python 3",
   "language": "python",
   "name": "python3"
  },
  "language_info": {
   "codemirror_mode": {
    "name": "ipython",
    "version": 3
   },
   "file_extension": ".py",
   "mimetype": "text/x-python",
   "name": "python",
   "nbconvert_exporter": "python",
   "pygments_lexer": "ipython3",
   "version": "3.8.3"
  }
 },
 "nbformat": 4,
 "nbformat_minor": 4
}
