{
 "cells": [
  {
   "cell_type": "code",
   "execution_count": 1,
   "id": "b107f5fe",
   "metadata": {},
   "outputs": [],
   "source": [
    "from jupyter_to_medium._latex import is_latex_cell, replicate_alignment\n",
    "from nbformat import read"
   ]
  },
  {
   "cell_type": "code",
   "execution_count": 2,
   "id": "6f7e4e1e",
   "metadata": {},
   "outputs": [],
   "source": [
    "nb = read('/Users/jamisonm/dev/jupyter_to_medium/tests/notebooks/Test Latex.ipynb', as_version=4)"
   ]
  },
  {
   "cell_type": "code",
   "execution_count": 3,
   "id": "80c37ab2",
   "metadata": {},
   "outputs": [],
   "source": [
    "md = [x for x in nb['cells'] if x['cell_type'] == 'markdown']"
   ]
  },
  {
   "cell_type": "code",
   "execution_count": 4,
   "id": "ad6de6b8",
   "metadata": {},
   "outputs": [],
   "source": [
    "lts = [x for x in md if is_latex_cell(x)]"
   ]
  },
  {
   "cell_type": "code",
   "execution_count": 5,
   "id": "b09ba5c7",
   "metadata": {},
   "outputs": [],
   "source": [
    "l = lts[1]['source']"
   ]
  },
  {
   "cell_type": "code",
   "execution_count": 6,
   "id": "3b7d9d31",
   "metadata": {},
   "outputs": [],
   "source": [
    "def format_multiline_latex(latex: list, align_offset: int = 4) -> str:\n",
    "\n",
    "    # we have a multi-liner - we want to:\n",
    "    # - remove the new lines, we will replace later\n",
    "    lt = [x.replace(\"\\n\", \"\") for x in latex]\n",
    "    # - remove latex new line \\\\ at end of lines\n",
    "    lt = [x[:-2] if x[-2:] == r\"\\\\\" else x for x in lt]\n",
    "    # - remove '$$' at top and bottom of list\n",
    "    lt = [x for x in lt if x != \"$$\"]\n",
    "    # - remove '$$' even if other latex on that line\n",
    "    if \"$$\" in lt[0]:\n",
    "        lt[0] = lt[0][2:]\n",
    "    if \"$$\" in lt[-1]:\n",
    "        lt[-1] = lt[-1][:-2]\n",
    "    # - check if latex contains \\begin and \\end statements\n",
    "    has_beg_end = [\"\\\\begin\" in x or \"\\\\end\" in x for x in lt]\n",
    "    # - if so then we need to handle as mpl can't render\n",
    "    if max(has_beg_end):\n",
    "        # check if '{align}' is in the brackets\n",
    "        has_align = [\"align\" in x for x in lt]\n",
    "        # if aligns are present\n",
    "        if max(has_align):\n",
    "            # remove \\begin{align } and \\end{align}\n",
    "            lt = [x for x in lt if x != \"\\\\begin{align}\"]\n",
    "            lt = [x for x in lt if x != \"\\\\end{align}\"]\n",
    "        else:\n",
    "            # remove \\begin{align } and \\end{align}\n",
    "            lt = [x for x in lt if \"\\\\begin\" in x]\n",
    "            lt = [x for x in lt if \"\\\\end\" in x]\n",
    "            \n",
    "    return lt"
   ]
  },
  {
   "cell_type": "code",
   "execution_count": 7,
   "id": "ef092052",
   "metadata": {},
   "outputs": [],
   "source": [
    "ll = format_multiline_latex(l.split('\\n'))"
   ]
  },
  {
   "cell_type": "code",
   "execution_count": 8,
   "id": "e14e39cc",
   "metadata": {},
   "outputs": [
    {
     "data": {
      "text/plain": [
       "['r^l_T &= ln(\\\\frac{S_T}{S_0}) ',\n",
       " '      &= ln(\\\\frac{S_T}{S_{T-1}}) + ln(\\\\frac{S_{T-1}}{S_{T-2}}) + \\\\ldots + ln(\\\\frac{S_1}{S_{0}}) ',\n",
       " '      &= r^l_{T-1} + r^l_{T-2} + \\\\ldots + r^l_0']"
      ]
     },
     "execution_count": 8,
     "metadata": {},
     "output_type": "execute_result"
    }
   ],
   "source": [
    "ll"
   ]
  }
 ],
 "metadata": {
  "kernelspec": {
   "display_name": "Python 3 (ipykernel)",
   "language": "python",
   "name": "python3"
  },
  "language_info": {
   "codemirror_mode": {
    "name": "ipython",
    "version": 3
   },
   "file_extension": ".py",
   "mimetype": "text/x-python",
   "name": "python",
   "nbconvert_exporter": "python",
   "pygments_lexer": "ipython3",
   "version": "3.9.7"
  }
 },
 "nbformat": 4,
 "nbformat_minor": 5
}
